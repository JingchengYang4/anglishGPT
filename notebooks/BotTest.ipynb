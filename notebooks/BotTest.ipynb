{
 "cells": [
  {
   "cell_type": "code",
   "execution_count": null,
   "metadata": {
    "pycharm": {
     "name": "#%%\n"
    }
   },
   "outputs": [],
   "source": [
    "%load_ext autoreload\n",
    "%autoreload 2\n",
    "import sys\n",
    "sys.path.append(\"../\")\n",
    "from title_maker_pro import datasets\n",
    "from website.words import Word\n",
    "import json"
   ]
  },
  {
   "cell_type": "code",
   "execution_count": null,
   "metadata": {
    "pycharm": {
     "name": "#%%\n"
    }
   },
   "outputs": [],
   "source": [
    "blacklist = datasets.Blacklist.load(\"/mnt/evo/projects/title-maker-pro/models/blacklist.pickle\")\n"
   ]
  },
  {
   "cell_type": "code",
   "execution_count": null,
   "metadata": {
    "pycharm": {
     "name": "#%%\n"
    }
   },
   "outputs": [],
   "source": [
    "\n",
    "blacklist.merge(\n",
    "    datasets.Blacklist(new_set),\n",
    ")\n",
    "blacklist.merge(\n",
    "    datasets.Blacklist(new_set2),\n",
    ")\n",
    "blacklist.blacklist_set |= {\n",
    "    \"quaterly\", \"refactor\", \"refactoring\", \"geotagging\", \"mispriced\",\n",
    "    \"backpressure\", \"comicbook\", \"nonreferential\", \"barleywine\", \"geophile\",\n",
    "    \"microtissue\"\n",
    "}"
   ]
  },
  {
   "cell_type": "code",
   "execution_count": null,
   "metadata": {
    "pycharm": {
     "name": "#%%\n"
    }
   },
   "outputs": [],
   "source": [
    "blacklist.dump(\"/mnt/evo/projects/title-maker-pro/models/blacklist2.pickle\")"
   ]
  },
  {
   "cell_type": "code",
   "execution_count": null,
   "metadata": {
    "pycharm": {
     "name": "#%%\n"
    }
   },
   "outputs": [],
   "source": [
    "r = json.loads(open(\"/home/tdimson/projects/company-makeup/website/data/words.json\", \"r\").read())\n",
    "print(len(r))\n",
    "new_words = [e for e in r if not blacklist.contains(e[\"word\"])]\n",
    "print(len(new_words))"
   ]
  },
  {
   "cell_type": "code",
   "execution_count": null,
   "metadata": {
    "pycharm": {
     "name": "#%%\n"
    }
   },
   "outputs": [],
   "source": [
    "with open('/home/tdimson/projects/company-makeup/website/data/words.json', 'w') as outfile:\n",
    "    json.dump(new_words, outfile)"
   ]
  },
  {
   "cell_type": "code",
   "execution_count": null,
   "metadata": {
    "pycharm": {
     "name": "#%%\n"
    }
   },
   "outputs": [],
   "source": [
    "blacklist = datasets.Blacklist.load(\"/mnt/evo/projects/title-maker-pro/models/blacklist.pickle\")"
   ]
  },
  {
   "cell_type": "code",
   "execution_count": null,
   "metadata": {
    "pycharm": {
     "name": "#%%\n"
    }
   },
   "outputs": [],
   "source": [
    "import logging\n",
    "import torch\n",
    "from title_maker_pro.word_generator import WordGenerator\n",
    "# import datasets\n",
    "import pytorch_modelsize\n",
    "import re\n",
    "\n",
    "for handler in logging.root.handlers[:]:\n",
    "    logging.root.removeHandler(handler)\n",
    "logging.basicConfig(level=logging.INFO)"
   ]
  },
  {
   "cell_type": "code",
   "execution_count": null,
   "metadata": {
    "pycharm": {
     "name": "#%%\n"
    }
   },
   "outputs": [],
   "source": [
    "wg = WordGenerator(\n",
    "    forward_model_path=\"/mnt/evo/projects/title-maker-pro/models/en_dictionary_parsed_lr_00001/checkpoint-120000/\",\n",
    "    inverse_model_path=\"/mnt/evo/projects/title-maker-pro/models/inverse_en_dictionary_parsed_lr_00001/checkpoint-50000/\",\n",
    "    blacklist_path=\"/mnt/evo/projects/title-maker-pro/models/blacklist.pickle\",\n",
    "    device='cpu',\n",
    "    quantize=True,\n",
    ")"
   ]
  },
  {
   "cell_type": "code",
   "execution_count": null,
   "metadata": {
    "pycharm": {
     "name": "#%%\n"
    }
   },
   "outputs": [],
   "source": [
    "b2 = "
   ]
  },
  {
   "cell_type": "code",
   "execution_count": null,
   "metadata": {
    "pycharm": {
     "name": "#%%\n"
    }
   },
   "outputs": [],
   "source": [
    "se = pytorch_modelsize.SizeEstimator(wg.forward_model, input_size=(1, 256))\n",
    "print(se.estimate_size())\n",
    "#pytorch_modelsize(word_generator.)"
   ]
  },
  {
   "cell_type": "code",
   "execution_count": null,
   "metadata": {
    "pycharm": {
     "name": "#%%\n"
    }
   },
   "outputs": [],
   "source": [
    "wg.generate_definition(\"$#!Caf325\")"
   ]
  },
  {
   "cell_type": "code",
   "execution_count": null,
   "metadata": {
    "pycharm": {
     "name": "#%%\n"
    }
   },
   "outputs": [],
   "source": [
    "stats"
   ]
  },
  {
   "cell_type": "code",
   "execution_count": null,
   "metadata": {
    "pycharm": {
     "name": "#%%\n"
    }
   },
   "outputs": [],
   "source": [
    "%time twitter_bot._formulate_reply_text(wg, \"cleanecode\", \"w\")"
   ]
  },
  {
   "cell_type": "code",
   "execution_count": null,
   "metadata": {
    "pycharm": {
     "name": "#%%\n"
    }
   },
   "outputs": [],
   "source": [
    "twitter_bot._formulate_reply_text(wg, \"the feeling of dying slowly\", \"w\")"
   ]
  },
  {
   "cell_type": "code",
   "execution_count": null,
   "metadata": {
    "pycharm": {
     "name": "#%%\n"
    }
   },
   "outputs": [],
   "source": [
    "wg.blacklist.contains(\"swapin\")"
   ]
  },
  {
   "cell_type": "code",
   "execution_count": null,
   "metadata": {
    "pycharm": {
     "name": "#%%\n"
    }
   },
   "outputs": [],
   "source": [
    "re.sub(r\"('s|s|ing)$\", \"\", \"baking\")"
   ]
  },
  {
   "cell_type": "code",
   "execution_count": null,
   "metadata": {
    "pycharm": {
     "name": "#%%\n"
    }
   },
   "outputs": [],
   "source": [
    "import tweepy"
   ]
  },
  {
   "cell_type": "code",
   "execution_count": null,
   "metadata": {
    "pycharm": {
     "name": "#%%\n"
    }
   },
   "outputs": [],
   "source": [
    "logging.basicConfig(level=logging.INFO)"
   ]
  },
  {
   "cell_type": "code",
   "execution_count": null,
   "metadata": {
    "pycharm": {
     "name": "#%%\n"
    }
   },
   "outputs": [],
   "source": []
  },
  {
   "cell_type": "code",
   "execution_count": null,
   "metadata": {
    "pycharm": {
     "name": "#%%\n"
    }
   },
   "outputs": [],
   "source": [
    "wg.generate_definition(\"hello world\")"
   ]
  },
  {
   "cell_type": "code",
   "execution_count": null,
   "metadata": {
    "pycharm": {
     "name": "#%%\n"
    }
   },
   "outputs": [],
   "source": [
    "e = \"<|bod|> funnster <|bd|> verb [no object] <|bd|> have fun together <|be|> he put on a lively little show at the pub <|be|> there's an abundance of people who funnster around at his apartment <|eod|> <|pad|> <|pad|> <|pad|> <|pad|> <|pad|> <|pad|> <|pad|> <|pad|> <|pad|> <|pad|> <|pad|> <|pad|>\"\n",
    "s = datasets.ParsedDictionaryDefinitionDataset._split_re()\n",
    "s.match(e).groups()"
   ]
  },
  {
   "cell_type": "code",
   "execution_count": null,
   "metadata": {
    "pycharm": {
     "name": "#%%\n"
    }
   },
   "outputs": [],
   "source": [
    "twitter_bot._formulate_reply_text(wg, \"@WordMakerPro define hello test 123\", \"coolman123\")"
   ]
  }
 ],
 "metadata": {
  "kernelspec": {
   "display_name": "company_makeup",
   "language": "python",
   "name": "company_makeup"
  },
  "language_info": {
   "codemirror_mode": {
    "name": "ipython",
    "version": 3
   },
   "file_extension": ".py",
   "mimetype": "text/x-python",
   "name": "python",
   "nbconvert_exporter": "python",
   "pygments_lexer": "ipython3",
   "version": "3.7.6"
  }
 },
 "nbformat": 4,
 "nbformat_minor": 4
}