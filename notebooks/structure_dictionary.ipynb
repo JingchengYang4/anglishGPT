{
 "cells": [
  {
   "cell_type": "code",
   "execution_count": 4,
   "metadata": {
    "pycharm": {
     "name": "#%%\n"
    }
   },
   "outputs": [
    {
     "name": "stdout",
     "output_type": "stream",
     "text": [
      "The autoreload extension is already loaded. To reload it, use:\n",
      "  %reload_ext autoreload\n"
     ]
    }
   ],
   "source": [
    "%load_ext autoreload\n",
    "%autoreload 2\n",
    "import title_maker_pro.dictionary_definition\n",
    "import random\n",
    "import pickle"
   ]
  },
  {
   "cell_type": "code",
   "execution_count": 7,
   "metadata": {
    "pycharm": {
     "name": "#%%\n"
    }
   },
   "outputs": [
    {
     "name": "stderr",
     "output_type": "stream",
     "text": [
      "WARNING:title_maker_pro.dictionary_definition:Dropping note in word sense <span class=\"note x_xd1\" id=\"m_en_gbus0006560.016\" role=\"text\">Acids are compounds that release hydrogen ions (H<span class=\"sup\">+</span>) when dissolved in water. Any solution with a pH of less than 7 is acidic, strong acids such as sulfuric or hydrochloric acid having a pH as low as 1 or 2. Most organic acids (<span class=\"ll\" id=\"m_en_gbus0006560.017\">carboxylic</span> or <span class=\"ll\" id=\"m_en_gbus0006560.018\">fatty acids</span>) contain the carboxyl group -COOH<span class=\"gp tg_note\">.</span></span>\n",
      "WARNING:title_maker_pro.dictionary_definition:Dropping note in word sense <span class=\"note x_xd1\" id=\"m_en_gbus0050120.012\" role=\"text\">The idea that there was a single “Aryan” race corresponding to the parent Indo-European language was proposed by certain 19th century writers and was taken up by Hitler and other proponents of racist ideology, but it has been generally rejected by scholars<span class=\"gp tg_note\">.</span></span>\n",
      "WARNING:root:Too many topics found: [<span class=\"lg\"><span class=\"reg\">trademark </span></span>, <span class=\"lg\" role=\"text\"><span class=\"ge\">Canadian </span></span>], picking first one\n",
      "WARNING:root:Too many topics found: [<span class=\"lg\"><span class=\"ge\">US </span></span>, <span class=\"lg\" role=\"text\"><span class=\"sj\">Farming </span></span>], picking first one\n",
      "WARNING:title_maker_pro.dictionary_definition:Dropping note in word sense <span class=\"note x_xd1\" id=\"m_en_gbus0151780.017\" role=\"text\">Compounds of carbon (organic compounds) form the physical basis of all living organisms. Carbon atoms are able to link with each other and with other atoms to form chains and rings, and an infinite variety of carbon compounds exist<span class=\"gp tg_note\">.</span></span>\n",
      "WARNING:title_maker_pro.dictionary_definition:Dropping note in word sense <span class=\"note x_xd1\" id=\"m_en_gbus0177150.019\" role=\"text\">Chinese is the world's most commonly spoken first language, with an estimated 1.2 billion native speakers worldwide. The standard literary and official form, based on the Beijing dialect, is called Mandarin. Chinese script is logographic, using characters which originated as stylized pictographs but now also represent abstract concepts and the sounds of syllables. Though complex, it permits written communication between speakers of the many dialects, most of which are mutually incomprehensible in speech. For transliteration into the Roman alphabet, the Pinyin system is now usually used<span class=\"gp tg_note\">.</span></span>\n",
      "WARNING:title_maker_pro.dictionary_definition:Dropping note in word sense <span class=\"note x_xd1\" id=\"m_en_gbus0305120.022\" role=\"text\">Dutch belongs to the West Germanic branch of Indo-European languages and is most closely related to German and English. It is also the official language of Suriname and is spoken in northern Belgium, where it is called Flemish<span class=\"gp tg_note\">.</span></span>\n",
      "WARNING:title_maker_pro.dictionary_definition:Dropping note in word sense <span class=\"note x_xd1\" id=\"m_en_gbus0324780.020\" role=\"text\">English is the principal language of Great Britain, the US, Ireland, Canada, Australia, New Zealand, and many other countries. It is the second most commonly spoken first language, with some 400 million native speakers, and is the world's most widely used second language. English belongs to the West Germanic group of Indo-European languages, though its vocabulary has been much influenced by Norman French and Latin<span class=\"gp tg_note\">.</span></span>\n",
      "WARNING:title_maker_pro.dictionary_definition:Dropping unexpected msDict in sense <span class=\"msDict x_xd1 hasSn t_subsense\" id=\"m_en_gbus0362200.014\"><span class=\"gp sn tg_msDict\" role=\"text\">  • </span><span class=\"lg\" role=\"text\"><span class=\"reg\">informal </span></span><span class=\"df\" role=\"text\">used to express one's anger and disgust</span><span class=\"gp tg_df\" role=\"text\">: </span><span class=\"eg\" role=\"text\"><span class=\"ex\"> you filthy beast</span><span class=\"gp tg_eg\">. </span></span><span class=\"gp tg_msDict\" role=\"text\"> </span></span>\n",
      "WARNING:title_maker_pro.dictionary_definition:Dropping note in word sense <span class=\"note x_xd1\" id=\"m_en_gbus0388750.025\" role=\"text\">French is the first or official language of over 200 million people and is widely used as a second language. It is a Romance language that developed from the Latin spoken in Gaul, the northern dialects coming to dominate after Paris became the capital in the 10th century. French became widely used owing to the cultural influence and colonial expansion of France from the 11th century, and it had a very great influence on English as the language of the Norman ruling class<span class=\"gp tg_note\">.</span></span>\n",
      "WARNING:title_maker_pro.dictionary_definition:Dropping unexpected msDict in sense <span class=\"msDict x_xd1 t_core\" id=\"m_en_gbus0428830.004\"><span class=\"df\" role=\"text\">in nouns denoting<span class=\"gp tg_df\">. </span></span><span class=\"gp tg_msDict\" role=\"text\"> </span></span>\n",
      "WARNING:title_maker_pro.dictionary_definition:Dropping note in word sense <span class=\"note x_xd1\" id=\"m_en_gbus0555550.012\" role=\"text\">Restrictions on the foods suitable for Jews are derived from rules in the books of Leviticus and Deuteronomy. Animals must be slaughtered and prepared in the prescribed way, in which the blood is drained from the body, while certain creatures, notably pigs and shellfish, are forbidden altogether. Meat and milk must not be cooked or consumed together, and separate utensils must be kept for each. Strict observance of these rules is today confined mainly to Orthodox Jews<span class=\"gp tg_note\">.</span></span>\n",
      "WARNING:title_maker_pro.dictionary_definition:Dropping note in word sense <span class=\"note x_xd1\" id=\"m_en_gbus0832580.021\" role=\"text\">Pygmies (e.g., the Mbuti and Twa peoples) are typically dark-skinned, nomadic hunter-gatherers with an average male height not above 150 cm (4 ft. 11 in.)<span class=\"xrg\">. See also <span class=\"xr\"><a href=\"x-dictionary:r:m_en_gbus0683870:com.apple.dictionary.NOAD:Negrillo\" title=\"Negrillo\">Negrillo</a></span>, <span class=\"xr\"><a href=\"x-dictionary:r:m_en_gbus0683890:com.apple.dictionary.NOAD:Negrito\" title=\"Negrito\">Negrito</a></span></span><span class=\"gp tg_note\">.</span></span>\n",
      "WARNING:root:Too many topics found: [<span class=\"lg\"><span class=\"ge\">British </span></span>, <span class=\"lg\" role=\"text\"><span class=\"reg\">informal </span></span>], picking first one\n",
      "WARNING:title_maker_pro.dictionary_definition:Dropping unexpected msDict in sense <span class=\"msDict x_xd1 t_core\" id=\"m_en_gbus0967720.004\"><span class=\"df\" role=\"text\">forming adjectives meaning<span class=\"gp tg_df\">. </span></span><span class=\"gp tg_msDict\" role=\"text\"> </span></span>\n",
      "WARNING:root:Too many topics found: [<span class=\"lg\"><span class=\"ge\">British </span></span>, <span class=\"lg\" role=\"text\"><span class=\"reg\">informal </span></span>], picking first one\n",
      "WARNING:root:Too many topics found: [<span class=\"lg\"><span class=\"ge\">British </span></span>, <span class=\"lg\" role=\"text\"><span class=\"sj\">Law </span></span>], picking first one\n",
      "WARNING:title_maker_pro.dictionary_definition:Invalid entry : \n",
      "WARNING:title_maker_pro.dictionary_definition:Invalid entry : \n",
      "WARNING:title_maker_pro.dictionary_definition:Invalid entry : \n",
      "WARNING:title_maker_pro.dictionary_definition:Invalid entry : \n",
      "WARNING:title_maker_pro.dictionary_definition:Invalid entry : \n",
      "WARNING:title_maker_pro.dictionary_definition:Invalid entry : \n",
      "WARNING:title_maker_pro.dictionary_definition:Invalid entry : \n",
      "WARNING:title_maker_pro.dictionary_definition:Invalid entry : \n",
      "WARNING:title_maker_pro.dictionary_definition:Invalid entry : \n",
      "WARNING:title_maker_pro.dictionary_definition:Invalid entry : \n",
      "WARNING:title_maker_pro.dictionary_definition:Invalid entry : \n",
      "WARNING:title_maker_pro.dictionary_definition:Invalid entry : \n",
      "WARNING:title_maker_pro.dictionary_definition:Invalid entry : \n",
      "WARNING:title_maker_pro.dictionary_definition:Invalid entry : \n",
      "WARNING:title_maker_pro.dictionary_definition:Invalid entry : \n",
      "WARNING:title_maker_pro.dictionary_definition:Invalid entry : \n",
      "WARNING:title_maker_pro.dictionary_definition:Invalid entry : \n",
      "WARNING:title_maker_pro.dictionary_definition:Invalid entry : \n",
      "WARNING:title_maker_pro.dictionary_definition:Invalid entry : \n",
      "WARNING:title_maker_pro.dictionary_definition:Invalid entry : \n",
      "WARNING:title_maker_pro.dictionary_definition:Invalid entry : \n",
      "WARNING:title_maker_pro.dictionary_definition:Invalid entry : \n",
      "WARNING:title_maker_pro.dictionary_definition:Invalid entry : \n",
      "WARNING:title_maker_pro.dictionary_definition:Invalid entry : \n",
      "WARNING:title_maker_pro.dictionary_definition:Invalid entry : \n",
      "WARNING:title_maker_pro.dictionary_definition:Invalid entry : \n",
      "WARNING:title_maker_pro.dictionary_definition:Invalid entry : \n"
     ]
    },
    {
     "name": "stdout",
     "output_type": "stream",
     "text": [
      "Error rate: 0.0005557844706152918\n"
     ]
    }
   ],
   "source": [
    "dictionary_path = \"/Users/jingchengyang/Documents/Body.data\"\n",
    "parsed = []\n",
    "num_tried = 0\n",
    "error_titles = []\n",
    "\n",
    "with open(dictionary_path, \"rb\") as f:\n",
    "    for entry in title_maker_pro.dictionary_definition.DictionaryDefinition.gen_from_apple_dictionary(f):\n",
    "        num_tried += 1\n",
    "        try:\n",
    "            parsed.append(title_maker_pro.dictionary_definition.AppleDictParser.parse(entry.parsed_entry))\n",
    "        except title_maker_pro.dictionary_definition.InvalidParseAssumptionError: \n",
    "            error_titles.append(\"title\")\n",
    "    \n",
    "print(f\"Error rate: {len(error_titles) / num_tried}\")"
   ]
  },
  {
   "cell_type": "code",
   "execution_count": 13,
   "metadata": {
    "pycharm": {
     "name": "#%%\n"
    }
   },
   "outputs": [],
   "source": [
    "random.shuffle(parsed)\n",
    "with open(f\"../data/en_dictionary_parsed_randomized.pickle\", \"wb\") as f:\n",
    "    pickle.dump(parsed, f, protocol=pickle.HIGHEST_PROTOCOL)"
   ]
  },
  {
   "cell_type": "code",
   "execution_count": 14,
   "metadata": {
    "pycharm": {
     "name": "#%%\n"
    }
   },
   "outputs": [
    {
     "ename": "NameError",
     "evalue": "name 'parsies_items' is not defined",
     "output_type": "error",
     "traceback": [
      "\u001B[0;31m---------------------------------------------------------------------------\u001B[0m",
      "\u001B[0;31mNameError\u001B[0m                                 Traceback (most recent call last)",
      "Cell \u001B[0;32mIn[14], line 3\u001B[0m\n\u001B[1;32m      1\u001B[0m error_titles \u001B[38;5;241m=\u001B[39m []\n\u001B[1;32m      2\u001B[0m num_choices \u001B[38;5;241m=\u001B[39m \u001B[38;5;241m200000\u001B[39m\n\u001B[0;32m----> 3\u001B[0m \u001B[38;5;28;01mfor\u001B[39;00m title, parsed_entry \u001B[38;5;129;01min\u001B[39;00m random\u001B[38;5;241m.\u001B[39mchoices(\u001B[43mparsies_items\u001B[49m, k\u001B[38;5;241m=\u001B[39mnum_choices):\n\u001B[1;32m      4\u001B[0m     \u001B[38;5;28;01mtry\u001B[39;00m:\n\u001B[1;32m      5\u001B[0m         title_maker_pro\u001B[38;5;241m.\u001B[39mdictionary_definition\u001B[38;5;241m.\u001B[39mAppleDictParser\u001B[38;5;241m.\u001B[39mparse(parsed_entry)\n",
      "\u001B[0;31mNameError\u001B[0m: name 'parsies_items' is not defined"
     ]
    }
   ],
   "source": [
    "error_titles = []\n",
    "num_choices = 200000\n",
    "for title, parsed_entry in random.choices(parsies_items, k=num_choices):\n",
    "    try:\n",
    "        title_maker_pro.dictionary_definition.AppleDictParser.parse(parsed_entry)\n",
    "    except Exception:\n",
    "        error_titles.append(title)\n",
    "        \n",
    "print(f\"Error rate: {len(error_titles) / num_choices}\")"
   ]
  },
  {
   "cell_type": "code",
   "execution_count": null,
   "metadata": {
    "pycharm": {
     "name": "#%%\n"
    }
   },
   "outputs": [],
   "source": [
    "error_titles"
   ]
  },
  {
   "cell_type": "code",
   "execution_count": null,
   "metadata": {
    "pycharm": {
     "name": "#%%\n"
    }
   },
   "outputs": [],
   "source": [
    "# view = next(e for e in all_defs if e.title == \"view\")\n",
    "# machinate = next(e for e in all_defs if e.title == \"machinate\")\n",
    "    # parsed_entry = try_word\n",
    "\n",
    "\n",
    "view = parsies[\"view\"]\n",
    "eject = parsies[\"eject\"]\n",
    "al_desko = parsies[\"al desko\"]\n",
    "tomato_fruitworm = parsies[\"tomato fruitworm\"]\n",
    "technocrat = parsies[\"technocrat\"]\n",
    "poor_law = parsies[\"Poor Law\"]\n",
    "oh2 = parsies[\"oh\"]\n",
    "gawky = parsies[\"gawky\"]\n",
    "leo_iii = parsies[\"Leo III\"]\n",
    "pollo = parsies[\"pollo\"]\n",
    "mortimer = parsies[\"Mortimer, Roger de\"]\n",
    "sauria = parsies[\"Sauria\"]\n",
    "hardtail = parsies[\"hardtail\"]\n",
    "saccharine = parsies[\"saccharine\"]\n",
    "warren = parsies[\"Warren\"]\n",
    "rattle = parsies[\"rattle\"]\n",
    "slough_of_despond = parsies[\"Slough of Despond\"]\n",
    "try_word = parsies[\"try\"]\n",
    "eryngo = parsies[\"eryngo\"]\n",
    "fescue = parsies[\"fescue\"]\n",
    "brazen = parsies[\"brazen\"]\n",
    "weekend = parsies[\"weekend\"]\n",
    "thrash = parsies[\"thrash\"]\n",
    "thee = parsies[\"thee\"]\n",
    "talk = parsies[\"talk\"]\n",
    "beef = parsies[\"beef\"]\n",
    "pygmy = parsies[\"pygmy\"]\n",
    "kosher = parsies[\"kosher\"]\n",
    "graphy = parsies[\"-graphy\"]\n",
    "term = parsies[\"term\"]\n",
    "come = parsies[\"come\"]\n",
    "    \n",
    "for i in range(10):\n",
    "    title, parsed_entry = random.choice(parsies_items)\n",
    "    # d = machinate\n",
    "    # d = view\n",
    "    # d = eject\n",
    "    # d = al_desko\n",
    "    # d = tomato_fruitworm\n",
    "    # d = technocrat\n",
    "    # parsed_entry = view\n",
    "    # parsed_entry = poor_law\n",
    "    # parsed_entry = oh2\n",
    "    # parsed_entry = gawky\n",
    "    # parsed_entry = leo_iii\n",
    "    # parsed_entry = pollo\n",
    "    # parsed_entry = mortimer\n",
    "    # parsed_entry = sauria\n",
    "    # parsed_entry = hardtail\n",
    "    # parsed_entry = saccharine\n",
    "    # parsed_entry = warren\n",
    "    # parsed_entry = rattle\n",
    "    # parsed_entry = slough_of_despond\n",
    "    # parsed_entry = try_word\n",
    "    # parsed_entry = beef\n",
    "    # parsed_entry = term\n",
    "    parsed_entry = come\n",
    "    print(parsed_entry.get_text())    \n",
    "    print()\n",
    "    \n",
    "    # print(parsed_entry.prettify())\n",
    "    print(title_maker_pro.dictionary_definition.AppleDictParser.parse(parsed_entry))\n",
    "    \n",
    "    print()\n",
    "    print(parsed_entry.prettify())\n",
    "    \n",
    "    print()\n",
    "    print()"
   ]
  }
 ],
 "metadata": {
  "kernelspec": {
   "display_name": "Python 3",
   "language": "python",
   "name": "python3"
  },
  "language_info": {
   "codemirror_mode": {
    "name": "ipython",
    "version": 3
   },
   "file_extension": ".py",
   "mimetype": "text/x-python",
   "name": "python",
   "nbconvert_exporter": "python",
   "pygments_lexer": "ipython3",
   "version": "3.7.4"
  }
 },
 "nbformat": 4,
 "nbformat_minor": 4
}