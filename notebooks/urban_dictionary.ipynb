{
 "cells": [
  {
   "cell_type": "code",
   "execution_count": 1,
   "metadata": {
    "pycharm": {
     "name": "#%%\n"
    }
   },
   "outputs": [],
   "source": [
    "%load_ext autoreload\n",
    "%autoreload 2\n",
    "import sys\n",
    "from collections import defaultdict, Counter\n",
    "import pandas as pd\n",
    "import pickle\n",
    "import re\n",
    "import itertools \n",
    "sys.path.append(\"../\")\n",
    "sys.path.append(\"../title_maker_pro\")\n",
    "from title_maker_pro import datasets\n",
    "from collections import OrderedDict\n",
    "import torch\n",
    "from transformers import AutoModelWithLMHead, AutoTokenizer\n",
    "import copy\n",
    "from word_generator import WordGenerator"
   ]
  },
  {
   "cell_type": "code",
   "execution_count": 2,
   "metadata": {
    "pycharm": {
     "name": "#%%\n"
    }
   },
   "outputs": [],
   "source": [
    "dataset_path = \"/mnt/evo/projects/title-maker-pro/data/urban_dictionary_words.pickle\"\n",
    "with open(dataset_path, 'rb') as f:\n",
    "    dataset = pickle.load(f)"
   ]
  },
  {
   "cell_type": "code",
   "execution_count": null,
   "metadata": {
    "pycharm": {
     "name": "#%%\n"
    }
   },
   "outputs": [],
   "source": []
  },
  {
   "cell_type": "code",
   "execution_count": 134,
   "metadata": {
    "pycharm": {
     "name": "#%%\n"
    }
   },
   "outputs": [
    {
     "data": {
      "text/plain": [
       "<title_maker_pro.datasets.Blacklist at 0x7fcd21abea50>"
      ]
     },
     "execution_count": 134,
     "metadata": {},
     "output_type": "execute_result"
    }
   ],
   "source": [
    "blacklist = datasets.Blacklist.load(\"/mnt/evo/projects/title-maker-pro/models/blacklist.pickle\")\n",
    "blacklist.merge(\n",
    "    datasets.Blacklist.from_text_lines(\"/mnt/evo/projects/title-maker-pro/names.txt\")\n",
    ")\n",
    "blacklist.merge(\n",
    "    datasets.Blacklist.from_text_lines(\"/mnt/evo/projects/title-maker-pro/names2.txt\")\n",
    ")"
   ]
  },
  {
   "cell_type": "code",
   "execution_count": 112,
   "metadata": {
    "pycharm": {
     "name": "#%%\n"
    }
   },
   "outputs": [],
   "source": [
    "num_defs = {k.lower(): len(d.definitions) for k, d in dataset.items()}\n",
    "rows = []\n",
    "seen_set = set()\n",
    "for i, d in sorted(enumerate(itertools.chain.from_iterable(e.definitions for e in dataset.values())), key=lambda x: x[1].upvotes, reverse=True):\n",
    "    highest_ranked_def = d.word.lower() not in seen_set\n",
    "    rows.append((i, d.word, d.meaning, d.examples[0], d.upvotes, d.downvotes, d.creation_epoch, num_defs.get(d.word.lower(), 0), highest_ranked_def))\n",
    "    seen_set.add(d.word.lower())\n",
    "                                                \n",
    "pd_dataset = pd.DataFrame(\n",
    "    rows,\n",
    "    columns=[\"idx\", \"word\", \"meaning\", \"example\", \"upvotes\", \"downvotes\", \"creation_epoch\", \"num_defs\", \"highest_rank_def\"]\n",
    ")"
   ]
  },
  {
   "cell_type": "code",
   "execution_count": 35,
   "metadata": {
    "pycharm": {
     "name": "#%%\n"
    }
   },
   "outputs": [],
   "source": [
    "def cut(original, f, name):\n",
    "    n = original[f]\n",
    "    print(f\"{name} cut by {100 * (1 - (len(n) / (len(original)))):.2f}% ({len(original)} -> {len(n)})\")\n",
    "    return n"
   ]
  },
  {
   "cell_type": "code",
   "execution_count": 146,
   "metadata": {
    "pycharm": {
     "name": "#%%\n"
    }
   },
   "outputs": [],
   "source": [
    "def probably_name_meaning(meaning):\n",
    "    m = re.search(r\"(^|\\b)(boy|girl)\", meaning)\n",
    "    if m:\n",
    "        return m.start() < 20\n",
    "    \n",
    "    return False\n",
    "    "
   ]
  },
  {
   "cell_type": "code",
   "execution_count": 158,
   "metadata": {
    "pycharm": {
     "name": "#%%\n"
    }
   },
   "outputs": [
    {
     "name": "stdout",
     "output_type": "stream",
     "text": [
      "blacklist cut by 50.37% (2961824 -> 1469932)\n",
      "min_definitions cut by 67.75% (1469932 -> 474071)\n",
      "only_best_def cut by 61.28% (474071 -> 183568)\n",
      "max_words cut by 0.68% (183568 -> 182319)\n",
      "min_len cut by 2.39% (182319 -> 177955)\n",
      "length cut by 36.53% (177955 -> 112955)\n",
      "name_definitions cut by 3.34% (112955 -> 109178)\n"
     ]
    }
   ],
   "source": [
    "t = pd_dataset.copy()\n",
    "# t[\"upvote_percentage\"] = t[\"upvotes\"] / (t[\"upvotes\"] + t[\"downvotes\"] + 5)\n",
    "t = cut(t, ~(t[\"word\"].apply(blacklist.contains)), name=\"blacklist\")\n",
    "t = cut(t, (t[\"num_defs\"] >= 2), name=\"min_definitions\")\n",
    "t = cut(t, t[\"highest_rank_def\"], name=\"only_best_def\")\n",
    "#t = cut(t, ~(t[\"word\"].apply(blacklist.contains)), name=\"blacklist\")\n",
    "#t = cut(t, ~(t[\"word\"].apply(lambda x: x[:1].isupper())), name=\"uppercase\")\n",
    "t = cut(t, (t[\"word\"].apply(lambda x: len(x.split()) <= 3)), name=\"max_words\")\n",
    "t = cut(t, (t[\"word\"].str.len() >= 4), name=\"min_len\")\n",
    "t = cut(t, ((t[\"example\"].str.len() + t[\"meaning\"].str.len() + t[\"word\"].str.len()) < 250), name=\"length\")\n",
    "t = cut(t, ~(t[\"meaning\"].apply(probably_name_meaning)), name=\"name_definitions\")\n",
    "\n",
    "#t = cut(t, (t[\"upvote_percentage\"] >= 0.5), name=\"upvote_percentage\")"
   ]
  },
  {
   "cell_type": "code",
   "execution_count": 160,
   "metadata": {
    "pycharm": {
     "name": "#%%\n"
    }
   },
   "outputs": [],
   "source": [
    "valid_indexes = set(t[\"idx\"])\n",
    "cleaned_dataset = OrderedDict()\n",
    "i = 0\n",
    "num_defns = 0\n",
    "for k, ud_word in dataset.items():\n",
    "    good_defns = []\n",
    "    for d in ud_word.definitions:\n",
    "        if i in valid_indexes:\n",
    "            good_defns.append(copy.deepcopy(d))\n",
    "            num_defns += 1\n",
    "        i += 1\n",
    "    \n",
    "    if good_defns:\n",
    "        new = copy.deepcopy(ud_word)\n",
    "        for defn in good_defns:\n",
    "            if sum(1 for c in defn.word if c.isupper()) == 1:\n",
    "                defn.word = defn.word.lower()\n",
    "        new.definitions = good_defns\n",
    "        cleaned_dataset[k] = new"
   ]
  },
  {
   "cell_type": "code",
   "execution_count": 161,
   "metadata": {
    "pycharm": {
     "name": "#%%\n"
    }
   },
   "outputs": [],
   "source": [
    "cleaned_dataset_path = \"/mnt/evo/projects/title-maker-pro/data/urban_dictionary_250_top_defs.pickle\"\n",
    "with open(cleaned_dataset_path, \"wb\") as f:\n",
    "    pickle.dump(cleaned_dataset, f, pickle.HIGHEST_PROTOCOL)"
   ]
  },
  {
   "cell_type": "code",
   "execution_count": 2,
   "metadata": {
    "pycharm": {
     "name": "#%%\n"
    }
   },
   "outputs": [],
   "source": [
    "# nlp = stanza.Pipeline(lang='en', processors='tokenize,mwt,pos', use)\n",
    "tokenizer = AutoTokenizer.from_pretrained(\"gpt2\")\n",
    "tokenizer.add_special_tokens(datasets.SpecialTokens.special_tokens_dict())\n",
    "blacklist = datasets.Blacklist.load(\"/mnt/evo/projects/title-maker-pro/models/blacklist_urban_dictionary.pickle\")\n",
    "model = AutoModelWithLMHead.from_pretrained(\"/mnt/evo/projects/title-maker-pro/models/urban_dictionary_250_cleaned_top_defs_lr_00002_b9/checkpoint-50000\").to(\"cuda:0\")# model = AutoModelWithLMHead.from_pretrained(\"/mnt/evo/projects/title-maker-pro/models/urban_dictionary_250_cleaned_lr_00005_b9_seed4/checkpoint-140000\").to(\"cuda:0\")"
   ]
  },
  {
   "cell_type": "code",
   "execution_count": 7,
   "metadata": {
    "pycharm": {
     "name": "#%%\n"
    }
   },
   "outputs": [
    {
     "data": {
      "application/vnd.jupyter.widget-view+json": {
       "model_id": "f205295f1ba5490cab29cc2d598c8b17",
       "version_major": 2,
       "version_minor": 0
      },
      "text/plain": [
       "HBox(children=(FloatProgress(value=0.0, max=20000.0), HTML(value='')))"
      ]
     },
     "metadata": {},
     "output_type": "display_data"
    }
   ],
   "source": [
    "words, stats = datasets.UrbanDictionaryDataset.generate_words(\n",
    "    tokenizer, model,\n",
    "    num=20000,\n",
    "    max_iterations=1000, \n",
    "    blacklist=blacklist, \n",
    "    generation_args=dict(\n",
    "        top_k=50,\n",
    "        num_return_sequences=250,\n",
    "        max_length=250,\n",
    "        do_sample=True,\n",
    "    ),\n",
    "    dedupe_titles=True,\n",
    "    filter_proper_nouns=False,\n",
    "    min_definition_words=3,\n",
    ")"
   ]
  },
  {
   "cell_type": "code",
   "execution_count": 17,
   "metadata": {
    "pycharm": {
     "name": "#%%\n"
    }
   },
   "outputs": [
    {
     "data": {
      "application/vnd.jupyter.widget-view+json": {
       "model_id": "04f273ad6a284c8692bef4a7d3ace1ac",
       "version_major": 2,
       "version_minor": 0
      },
      "text/plain": [
       "HBox(children=(FloatProgress(value=0.0), HTML(value='')))"
      ]
     },
     "metadata": {},
     "output_type": "display_data"
    }
   ],
   "source": [
    "words, stats = datasets.UrbanDictionaryDataset.generate_words(\n",
    "    tokenizer, model,\n",
    "    prefix=f\"{datasets.SpecialTokens.BOS_TOKEN}client\",\n",
    "    num=100,\n",
    "    max_iterations=10, \n",
    "    blacklist=blacklist, \n",
    "    generation_args=dict(\n",
    "        top_k=50,\n",
    "        num_return_sequences=250,\n",
    "        max_length=250,\n",
    "        do_sample=True,\n",
    "    ),\n",
    "    dedupe_titles=True,\n",
    "    filter_proper_nouns=False,\n",
    "    min_definition_words=3,\n",
    ")"
   ]
  },
  {
   "cell_type": "code",
   "execution_count": 18,
   "metadata": {
    "pycharm": {
     "name": "#%%\n"
    }
   },
   "outputs": [
    {
     "name": "stdout",
     "output_type": "stream",
     "text": [
      "clientan\n",
      "\tA man who is a client\n",
      "\t\"He is a clientan\"\n",
      "----------------\n",
      "clienti\n",
      "\ta prostitute; or a female prostitute\n",
      "\t\"that clienti is a whore\"\n",
      "----------------\n",
      "cliento\n",
      "\tan evil master of shadow\n",
      "\t\"the cliento would like to control me...\"\n",
      "----------------\n",
      "clientitis\n",
      "\tAn illness related to client-oriented websites.\n",
      "\t\"I had clientitis.\"\n",
      "----------------\n",
      "clientip\n",
      "\tA small, small penis\n",
      "\t\"Did you have a clientip, you idiot.\"\n",
      "----------------\n",
      "clientish\n",
      "\tA server that is completely and utterly crappy.\n",
      "\t\"Your server is clientish...\"\n",
      "----------------\n",
      "clienta\n",
      "\tA person who has a big penis.\n",
      "\t\"Damn, what a clienta!\"\n",
      "----------------\n",
      "clientbation\n",
      "\tTo get someone's attention.\n",
      "\t\"I asked to get her clientbation.\"\n",
      "----------------\n",
      "clientop\n",
      "\ta professional gaming engine for the Nintendo Wii\n",
      "\t\"he came up with clientop for the Wii.\"\n",
      "----------------\n",
      "clientic\n",
      "\tA guy or gal that you love\n",
      "\t\"That man who drives the car is a clientic!!\"\n",
      "----------------\n",
      "clientium\n",
      "\tOne or more clients.\n",
      "\t\"This clientium is awesome, I really appreciate all these great clients.\"\n",
      "----------------\n",
      "clientsexual\n",
      "Being sexually aroused by a client.\n",
      "\t\"I'm sexually clientsexual.\"\n",
      "----------------\n",
      "clientized\n",
      "\tto get owned or to be put in an awkward spot.\n",
      "\t\"Dude you just got clientized!\"\n",
      "----------------\n",
      "clientiphobia\n",
      "\tA bad fear of client computers for a computer on a PC.\n",
      "\t\"I have clientiphobia.\"\n",
      "----------------\n",
      "clientide\n",
      "\tTo be good at something; to be skilled in some way.\n",
      "\t\"He is clientide in his work.\"\n",
      "----------------\n",
      "clientios\n",
      "\tPerson-to-Person communication with the receiver.\n",
      "\t\"Man I really like clientios with her.\"\n",
      "----------------\n",
      "clientiality\n",
      "\tThe state of being clientinative.\n",
      "\t\"I was clientiality when I came to the wedding.\"\n",
      "----------------\n",
      "clientidiot\n",
      "\tA client idiot.\n",
      "\t\"We don't support clientidiots anymore, they're killing the web.\"\n",
      "----------------\n",
      "clientia\n",
      "\tA client that can be perceived as being cool.\n",
      "\t\"Look at that clientia over there, it's so nice!\"\n",
      "----------------\n",
      "clienties\n",
      "\tSomebody or object that is a client.\n",
      "\t\"I want to play that clienties game for like 3 hours straight.\"\n",
      "----------------\n",
      "clientz\n",
      "\tThe worst insult.\n",
      "\t\"\"You are so clientz.\"\n",
      "\t\"My ex-wife is such a clientz.\"\"\n",
      "----------------\n",
      "clientistic\n",
      "\ta combination between Client and Intelligent...\n",
      "\t\"I have clientistic tendencies and I like talking to people in a clientistic manner...\"\n",
      "----------------\n",
      "clientist\n",
      "\tSome one who is self confident, yet a client to the client.\n",
      "\t\"T.J. is such a clientist.\"\n",
      "----------------\n",
      "clientisome\n",
      "\tWhen something is so hard that the client feels the client is worth it.\n",
      "\t\"\"Your dick is clientisome\"\"\n",
      "----------------\n",
      "clientio\n",
      "\tA type of code written by someone with an internet connection on a client side window.\n",
      "\t\"\"You have a new clientio!!\"\"\n",
      "----------------\n",
      "clienty\n",
      "\tOne of the funniest people in the neighborhood\n",
      "\t\"Did you see that clienty on Sunday? He was definitely funnier than today..\"\n",
      "----------------\n",
      "clientcident\n",
      "\tA serious case involving client satisfaction.\n",
      "\t\"In a clientcident, one cannot get away from the reality of being clientless.\"\n",
      "----------------\n",
      "clientie\n",
      "\tA very nice and intelligent person who treats everyone the same. They will never let people down\n",
      "\t\"I wish I was a clientie.\"\n",
      "----------------\n",
      "clientick\n",
      "\tVerb: Taking a shit after having a massive clientele\n",
      "\t\"I fucked one million dollars on that date while having a clientick session.\"\n",
      "----------------\n",
      "clienthoon\n",
      "\tTo be absolutely hammered and be the shit at the same time.\n",
      "\t\"John: Yo that guy over there is totally clienthoon!\"\n",
      "----------------\n",
      "clienticill\n",
      "\tthe condition of being a client for someone who’s the perfect couple for you\n",
      "\t\"i need a clienticill to find my girl\"\n",
      "----------------\n",
      "clientipose\n",
      "\tAn app that allows you to connect with friends and create personal profiles.\n",
      "\t\"I sent my clientipose to get some weed last night.\"\n",
      "----------------\n",
      "clientaam\n",
      "\tAn individual who is overly loyal and willing to speak up when things seem to go her way.\n",
      "\t\"I have issues with clientaams.\"\n",
      "----------------\n",
      "clientize\n",
      "\tthe act of engaging in sexual intercourse with a client of another client; the ultimate compliment.\n",
      "\t\"Joe is so awesome, he must definitely clientize!\"\n",
      "----------------\n",
      "clientiose\n",
      "\tSomeone who is an asshole to others or to themselves or another, not your own.\n",
      "\t\"Look at Dan. He's such a clientiose.\"\n",
      "----------------\n",
      "clientop'd\n",
      "\tWhen you've got your own website to serve clients.\n",
      "\t\"I tried to clientop my website, but I get clientop'd by Bill Gates!\"\n",
      "----------------\n",
      "clienticool\n",
      "\tSomeone who is constantly trying to pwn you and your ass.\n",
      "\t\"Lol you're constantly clienticool, you didn't understand me bro!\"\n",
      "----------------\n",
      "clientalism\n",
      "\tWhen talking to anyone for any kind of reason or purpose.\n",
      "\t\"If I need to ask, you could just ask me for a clientalism.\"\n",
      "----------------\n",
      "clientishism\n",
      "\tWhen a male will always have sex with his buddy, regardless of the cost or price.\n",
      "\t\"Look at my girl, she's got clientishism!\"\n",
      "----------------\n",
      "clientipater\n",
      "\tSomeone who has sexual relations with Clientipathy.\n",
      "\t\"This new clientipater doesn't feel the pain. He's actually enjoying the clientipathy.\"\n",
      "----------------\n",
      "clientbate\n",
      "\tTo take a photo with your phone and send it via IM (Text-messaging).\n",
      "\t\"Hey Tom, have you heard about my clientbate?\"\n",
      "----------------\n",
      "cliential\n",
      "\tA Cliential Person is someone you are willing to give money to when you can not.\n",
      "\t\"John's Cliential Partner Will give him your money to the kid.\"\n",
      "----------------\n",
      "clientix\n",
      "\tnoun. A client who plays PC and games simultaneously.\n",
      "\t\"Bob is so much better at PC than he is at games. He is a real clientix.\"\n",
      "----------------\n",
      "clientipotence\n",
      "\tThe ability to bypass any firewall, whether an ordinary firewalls or an IP router.\n",
      "\t\"The hacker compromised my firewall and clientipotenced me.\"\n",
      "----------------\n",
      "clientdizzle\n",
      "\tA person acting or acting stupid/lazy (low-lifes).\n",
      "\t\"Did you see that woman trying to steal my car? She was clientdizzle!\"\n",
      "----------------\n",
      "clientiphant\n",
      "\ta clientiphant is someone who is known to have a bad reputation or in some cases, an ass.\n",
      "\t\"i just lost my phone from that clientiphant\"\n",
      "----------------\n",
      "clienticulous\n",
      "\t(adj) having a great deal or great sex.\n",
      "\t\"That chick, when I saw her, and her ass in the sun; I knew she was clienticulous.\"\n",
      "----------------\n",
      "clienti'd\n",
      "\tWhen someone decides that they are in charge of an important task and decide to clienti.\n",
      "\t\"John says we didn't have to do it. What a clienti'd team.\"\n",
      "----------------\n",
      "clientanese\n",
      "\tColloquial slang that refers to white people who don't speak the language of clientanese.\n",
      "\t\"Look at Jon and his clientanese as they play ping pong.\"\n",
      "----------------\n",
      "clientizzle\n",
      " also known as client-freene network, to the point that the client and/or user are unable to stay online\n",
      "\t\"I'm still in clientizzle!\"\n",
      "----------------\n",
      "clientel\n",
      "\tA person who is a client, if you are a person who works for a client, and also your client/servant\n",
      "\t\"I am a clientel, this guy is a good person\"\n",
      "----------------\n",
      "clientdict\n",
      "\tA client who is incompetent at any given skill\n",
      "\t\"This hacker clientdict managed to find out that I only play xbox and Minecraft at 3am with a 5 minute workday.\"\n",
      "----------------\n",
      "cliention\n",
      "\tThe art of making client connections without the use of client computers.\n",
      "\t\"\"Hey do you know how much money one person makes from cliention for two people? What a bunch of clientsion\"\"\n",
      "----------------\n",
      "clientisic\n",
      "\t(n)  someone's own self-experience of seeing a client who gives excellent client service\n",
      "\t\"I'm like clientisic when I talk to him about things like our mutual relationship!\"\n",
      "----------------\n",
      "clientaish\n",
      "\tThe feeling you get while listening to a client whose music is very good.\n",
      "\t\"'I could've easily listened to this music if I didn't feel the clientaish feelings as I was listening.'\"\n",
      "----------------\n",
      "clientcide\n",
      "2. To prevent any good code from ever getting into the world.\n",
      "\t\"1. The server failed me because I Clientcideed it too hard\"\n",
      "----------------\n",
      "clientipulation\n",
      "\t(v) The act of receiving a client's email in a client's chat room/phone.\n",
      "\t\"Man, I was chatting with my old boss and we got a clientipulation going on last night.\"\n",
      "----------------\n",
      "clienticle\n",
      "\ta clienticle (pronounced \"clay-ee\") is the act of having sexual intercourse with someone in the client room while they are sleeping.\n",
      "\t\"I want to just get clientically fucked in his clienticle.\"\n",
      "----------------\n",
      "clientbating\n",
      "\tWhen one is doing clientbation. The act of masturbating at home while working on your online application or web site.\n",
      "\t\"After a long day of clientbating, I'm going to get a little tired.\"\n",
      "----------------\n",
      "clientiphone\n",
      "\tA person that only uses clientiphones. He/She is a tool, or an inanimate object to use.\n",
      "\t\"I'm in no way looking at my online history, I'm simply using clientiphones.\"\n",
      "----------------\n",
      "clientus\n",
      "\t\"You Clientus\" is what we call a client who wants something that is unfair and unfair. They will never get what they want\n",
      "\t\"\"That was Clientus way to screw my daughter up.\"\n",
      "\t\"What are you Clientus?\"\n",
      "----------------\n",
      "clientisophobia\n",
      "\tThe fear of being blocked or banned from any social network by a client.\n",
      "\t\"I can't understand how you got that banned from Facebook. You can't even think about using them when you're so in touch with your clientisophobia.\"\n",
      "----------------\n",
      "clientipit\n",
      "\tSomeone who is really good with gaming, such as a player, or someone who plays with a lot of skill.\n",
      "\t\"Guy 1: 'That guy is such a clientipit!'\n",
      "\t\n",
      "\tGuy 2: 'That guy is so awesome'\"\n",
      "----------------\n",
      "clientile\n",
      "3) Someone who has sexual attraction to any clientsh for the client \n",
      "\t\"\"Who's the clientile? I think it could be you\"\"\n",
      "----------------\n",
      "clientisiac\n",
      "\tWhen someone who is in denial\n",
      "\t\"He is clientisiac\"\n",
      "----------------\n",
      "clientc\n",
      "\tA client of a software platform\n",
      "\t\"Man, that application is such an clientc\"\n",
      "----------------\n",
      "clientelike\n",
      "\tA person of a clientele\n",
      "\t\"I am a clientelike of my clientele.\"\n",
      "----------------\n",
      "clientock\n",
      "\tA person who has been convicted of a serious crime involving clientele.\n",
      "\t\"Sandy's clientock was extremely large\"\n",
      "----------------\n",
      "clienta-asshole\n",
      "\tOne who is incompetent in their work.\n",
      "\t\"I worked my way up to a clienta-asshole.\"\n",
      "----------------\n",
      "clientidick\n",
      "\ta client that has received clientidick to the detriment of his/her client.\n",
      "\t\"I would totally get my clientidick for nothing!\"\n",
      "----------------\n",
      "clientapenit\n",
      "\tA female who is constantly out to get another man.\n",
      "\t\"That Clientapenit can easily get you all the way back on her way.\"\n",
      "----------------\n",
      "clientioner\n",
      "\tWhat a clientioner is that is very smart but an idiot.\n",
      "\t\"He is so clientioner that if you see a clientioner run!\"\n",
      "----------------\n",
      "clientophile\n",
      "\ta woman who is attracted to clients - only they will give you access to her private parts and their minds.\n",
      "\t\"\"I'm so clientophile right now.\"\"\n",
      "----------------\n",
      "clientipity\n",
      "\tThe ability to make one completely satisfied when working in an online company.\n",
      "\t\"He's clientipity at www.sperlius.co.uk.\"\n",
      "----------------\n",
      "clientap\n",
      "\tGetting hacked in the art of clientap. Often referred to as client-ap.\n",
      "\t\"Dude, check out that dumb ass clientap!!! I'm not even in it!\"\n",
      "----------------\n",
      "clientdude\n",
      "\tA guy who is really obsessed with his client, and can't decide what to do with a client.\n",
      "\t\"Look at those clientdudes with those fake tan and hair.\"\n",
      "----------------\n",
      "clienticue\n",
      "\tthe feeling of euphoria brought upon when looking through a large collection of pornographic objects.\n",
      "\t\"\"i jus got clienticued after doing a quick backflip in the bathroom\"\"\n",
      "----------------\n",
      "clientonner\n",
      "\tA clientonner is a person you would hate to have sex with at a restaurant.\n",
      "\t\"I hate having to deal with clientonners because my girlfriend has a horrible case of clientonner disease.\"\n",
      "----------------\n",
      "clientdome\n",
      "\t1. the clientdome is a real website and its really cool\n",
      "\t\"Man i'm on clientdome!\n",
      "\t \n",
      "\tDid you hear about that clientdome website? It was totally awesome!!!\"\n",
      "----------------\n",
      "clientisense\n",
      "\tThe intense feeling you get when a client asks you for directions or provides you with a service via a mobile device.\n",
      "\t\"\"Did you just get a job?\"\n",
      "\t\"Yeah man, I got clientisense!\"\"\n",
      "----------------\n",
      "clientidote\n",
      "\tA client that you call your friend who is already in the client network.\n",
      "\t\"\"Oh, I know you call all your friends that way. So, I'll just call that clientidote you just hired!\"\"\n",
      "----------------\n",
      "clientapopulate\n",
      "\tto have sexual relations with an individual or persons who clientapopulate while providing services.\n",
      "\t\"\"i have clientapopulated with this guy who is being a little greedy but is working hand in hand\"\"\n",
      "----------------\n",
      "clientisotch\n",
      "\tA homosexual who will stick it up the butt of a guy who is a dickhead or is a rapist\n",
      "\t\"\"That guy is a total clientisotch, like, f*ckin' old school.\"\"\n",
      "----------------\n",
      "clienticollaborator\n",
      "\tA man who makes client applications, a man who gets paid millions of dollars by corporations to give him customers.\n",
      "\t\"My boss is being such a clienticollaborator. He gets paid millions of dollars.\"\n",
      "----------------\n",
      "clientid\n",
      " (adjective) A female client, also known as a client-id.\n",
      "\t\"Did you see what happened to that clientid? He's gone to hell.\"\n",
      "----------------\n",
      "clientiphobic\n",
      " a person that can neither be trusted nor trusted.ientele;\n",
      "\t\"I'm clientiphobic, I'm not a customer, I'm a clientiphobic.\"\n",
      "----------------\n",
      "clientanatalk\n",
      "\tA chat room where all of your clients can hangout\n",
      "\t\"\"wow i have an clientanatalk\"\n",
      "\t\"weird how does it come with all the chicks i'm talking about in clientanatalk?\"\"\n",
      "----------------\n",
      "clienthug\n",
      "\tA humping partner of one of the clientele.\n",
      "\t\"I went on the clienthug trip last night. It was so hot I needed a shower.  The client's presence was such as a clienthug.\"\n",
      "----------------\n",
      "clienticklicious\n",
      "\tto be totally boned by yourself. also known as being so fucked up you are almost indescribable\n",
      "\t\"omg your car is clienticklicious. i cant wait for that car to be driven back to ya!\"\n",
      "----------------\n",
      "clientcis\n",
      "\tAn individual who is addicted to client video games (mainly Halo) that are constantly broken as a consequence on their Client.\n",
      "\t\"I will go on and on my Client, he cant play Halo 5 anymore. What a Clientcis.\"\n",
      "----------------\n",
      "clientisual\n",
      "\tAn individual who receives client services for money in such a way as that they are sexually attractive, as well as in a way of being clienta.\n",
      "\t\"\"He looks really clientisual over there\"\n",
      "\t\"I wish i was him, he's so cool...\"\"\n",
      "----------------\n",
      "clienticoo\n",
      "\tPeople who don't have a significant other involved in it, with the exception of the client-specific part of the group.\n",
      "\t\"\"I like the clienticoo.\"  \"I like people like her.\"  \"I like the clienticoo at his place.\"\"\n",
      "----------------\n",
      "client-sharkyness\n",
      "\tThe state of a client's personality, behavior, or demeanor in relation to having a client-like personality.\n",
      "\t\"There was a lot of client-sharkyness when I realized I could use my client-sharking skills to a great advantage!\"\n",
      "----------------\n",
      "clienthank\n",
      "\tA gay man who only sleeps with guys that look like him, also likes to sleep with guys that are short (he can be shorter with longer length) and has a big dick and makes friends easily, just ask\n",
      "\t\"\"Hey john, check out this clienthank, he is all sexy\"\"\n",
      "----------------\n",
      "clienthalo\n",
      "\tA portmanteau of client and Halo. Often referred to as client and Halo being two separate games.\n",
      "\t\"\"Hey what's up bro?\"\n",
      "\t\"Not much just clienthalo.\"\n",
      "\t \n",
      "\t\"So how was last night?\"\n",
      "\t\"I got the best clienthalo experience.\"\"\n",
      "----------------\n",
      "clientipot\n",
      "\tA clientipot is the act of sending and receiving pictures/ videos of your male genetalia while maintaining his own server of private messaging services that also serves as an ATM for your cell phone.\n",
      "\t\"I went to the clientipot to check out my new mobile, but he shut off my WiFi.\"\n",
      "----------------\n",
      "clientidiotic\n",
      "\tSomeone who is having a clientidiotic time in a job. A person who can get away with the act of making a mistake, but can also be a complete moron.\n",
      "\t\"Dude, I never thought Jeff would make someone's job even a little bit difficult. He just has a clientidiotic habit.\"\n",
      "----------------\n",
      "clienthobia\n",
      "\tThe fear of clients!\n",
      "\t\"I have clienthobia.\"\n",
      "----------------\n",
      "clientinism\n",
      "\tThe practice of working hard without paying your bills\n",
      "\t\"Our accountant came to work today in clientinism practice\"\n",
      "----------------\n",
      "clientidiots\n",
      "\tThe combination of Clientidiots and incompetents.\n",
      "\t\"When someone makes an idiot error that is very clientidiots.\"\n",
      "----------------\n"
     ]
    }
   ],
   "source": [
    "datasets.GeneratedWord.print_words(words)"
   ]
  },
  {
   "cell_type": "code",
   "execution_count": 12,
   "metadata": {
    "pycharm": {
     "name": "#%%\n"
    }
   },
   "outputs": [],
   "source": [
    "import os\n",
    "from title_maker_pro.bad_words import ULTRA_BAD_REGEX\n",
    "from website.words import WordIndex, Word\n",
    "from word_service.word_service_proto import wordservice_pb2\n",
    "\n",
    "def clean_example(w, example):\n",
    "    return re.sub(re.escape(w), w, example, flags=re.IGNORECASE)\n",
    "\n",
    "def word_filter(words):\n",
    "    filters = defaultdict(int)\n",
    "    ret = []\n",
    "    def run_over_all_text(pat, word):\n",
    "        return (\n",
    "            re.search(pat, word.word.strip(), flags=re.IGNORECASE) \n",
    "            or re.search(pat, word.definition.strip(), flags=re.IGNORECASE) \n",
    "            or re.search(pat, word.example.strip(), flags=re.IGNORECASE)\n",
    "        )\n",
    "    \n",
    "    for word in words:\n",
    "        if re.search(r\"(^|\\b)nig+\", word.word.strip()):\n",
    "            filters[\"nig\"] += 1\n",
    "        elif re.search(r\"(^|\\b)mex+\", word.word.strip()):\n",
    "            filters[\"mex\"] += 1\n",
    "        elif run_over_all_text(r\"(\\b|^)fagg+ots*\", word):\n",
    "            filters[\"fggot\"] += 1import random\n",
    "random.choice(list(cleaned_dataset.values()))\n",
    "        elif run_over_all_text(r\"(\\b|^)f+a+g+\", word):\n",
    "            filters[\"fg\"] += 1\n",
    "        elif run_over_all_text(r\"ghettos?\", word):\n",
    "            filters[\"ghetto\"] += 1\n",
    "        elif run_over_all_text(r\"skanks*\", word):\n",
    "            filters[\"sknk\"] += 1\n",
    "        elif run_over_all_text(r\"(^|\\b)p+a+k+i+(\\b|$)\", word):\n",
    "            filters[\"pki\"]\n",
    "        elif run_over_all_text(r\"(^|\\b)cunt+\", word):\n",
    "            filters[\"cnt\"] += 1\n",
    "        elif run_over_all_text(r\"(^|\\b)indian($|\\b)\", word):\n",
    "            filters['indian'] += 1\n",
    "        elif run_over_all_text(r\"c+h+i+n+k+\", word):\n",
    "            filters['chnk'] += 1\n",
    "        elif run_over_all_text(r\"nigga+s*\", word):\n",
    "            filters['ngga'] += 1\n",
    "        elif run_over_all_text(r\"(^|\\b)slap+s*(^|\\b)\", word):\n",
    "            filters['slap'] += 1\n",
    "        elif run_over_all_text(r\"(^|\\b)r+a+p+e+s*(^|\\b)\", word):\n",
    "            filters['rape'] += 1\n",
    "        elif ULTRA_BAD_REGEX.search(word.word.strip()):\n",
    "            filters[\"ultra_bad_word\"] += 1\n",
    "        elif ULTRA_BAD_REGEX.search(word.definition.strip()):\n",
    "            filters[\"ultra_bad_def\"] += 1\n",
    "        elif ULTRA_BAD_REGEX.search(word.example.strip()):\n",
    "            filters[\"ultra_bad_example\"] += 1\n",
    "        else:\n",
    "            ret.append(word)\n",
    "            \n",
    "    for k,v in sorted(filters.items()):\n",
    "        print(f\"Filter '{k}' removed {100 * v / len(words):.2f}%\")\n",
    "        \n",
    "    print(f\"Total removed {100 * (1 - len(ret) / len(words)):.2f}%\")\n",
    "        \n",
    "    return ret\n",
    "    \n",
    "from hyphen import Hyphenator\n",
    "h_en = Hyphenator('en_US')\n",
    "\n",
    "wi = WordIndex(\n",
    "    [\n",
    "        Word(\n",
    "            word=w.word,\n",
    "            definition=w.definition,\n",
    "            pos=w.pos,\n",
    "            topic=w.topic,\n",
    "            example=clean_example(w.word, w.example),\n",
    "            syllables=h_en.syllables(w.word),\n",
    "            probably_exists=False,\n",
    "            dataset_type=wordservice_pb2.DatasetType.UD_UNFILTERED,\n",
    "            \n",
    "        ) for w in words\n",
    "        \n",
    "    ]\n",
    ")\n",
    "wi.dump_encrypted(\"../website/data/words_ud_unfiltered.enc.gz\", fernet_key=os.environ.get(\"FERNET_ENCRYPTION_KEY\"))"
   ]
  },
  {
   "cell_type": "code",
   "execution_count": 11,
   "metadata": {
    "pycharm": {
     "name": "#%%\n"
    }
   },
   "outputs": [
    {
     "name": "stderr",
     "output_type": "stream",
     "text": [
      "\n",
      "\n",
      "\n",
      "Downloading https://raw.githubusercontent.com/stanfordnlp/stanza-resources/master/resources_1.0.0.json: 116kB [00:00, 9.88MB/s]                    \u001B[A\u001B[A\u001B[A\n",
      "2020-05-16 20:56:47 INFO: Downloading default packages for language: en (English)...\n",
      "2020-05-16 20:56:48 INFO: File exists: /home/tdimson/stanza_resources/en/default.zip.\n",
      "2020-05-16 20:56:51 INFO: Finished downloading models and saved to /home/tdimson/stanza_resources.\n",
      "2020-05-16 20:56:51 WARNING: Can not find mwt: default from official model list. Ignoring it.\n",
      "2020-05-16 20:56:51 INFO: Loading these models for language: en (English):\n",
      "=======================\n",
      "| Processor | Package |\n",
      "-----------------------\n",
      "| tokenize  | ewt     |\n",
      "| pos       | ewt     |\n",
      "=======================\n",
      "\n",
      "2020-05-16 20:56:51 INFO: Use device: gpu\n",
      "2020-05-16 20:56:51 INFO: Loading: tokenize\n",
      "2020-05-16 20:56:51 INFO: Loading: pos\n",
      "2020-05-16 20:56:52 INFO: Done loading processors!\n"
     ]
    }
   ],
   "source": [
    "wg = WordGenerator(\n",
    "    device=\"cuda:0\",\n",
    "    forward_model_path=\"/mnt/evo/projects/title-maker-pro/models/urban_dictionary_250_cleaned_lr_00005_b9_seed4/checkpoint-140000\",\n",
    "    inverse_model_path=None,\n",
    "    blacklist_path=\"/mnt/evo/projects/title-maker-pro/models/blacklist.pickle\",\n",
    "    quantize=False,\n",
    "    is_urban=True,\n",
    ")"
   ]
  },
  {
   "cell_type": "code",
   "execution_count": 12,
   "metadata": {
    "pycharm": {
     "name": "#%%\n"
    }
   },
   "outputs": [
    {
     "data": {
      "application/vnd.jupyter.widget-view+json": {
       "model_id": "460b19e3d1284415b1a1545225cf406f",
       "version_major": 2,
       "version_minor": 0
      },
      "text/plain": [
       "HBox(children=(FloatProgress(value=0.0, max=1.0), HTML(value='')))"
      ]
     },
     "metadata": {},
     "output_type": "display_data"
    },
    {
     "data": {
      "text/plain": [
       "GeneratedWord(word='cummy', pos=None, topic=None, definition='n: very big; enormous', example='That lady had a cummy penis!!', decoded='<|bod|> cummy <|bd|> n: very big; enormous <|be|> That lady had a cummy penis!! <|eod|> <|pad|> <|pad|> <|pad|> <|pad|> <|pad|> <|pad|> <|pad|> <|pad|> <|pad|> <|pad|> <|pad|> <|pad|> <|pad|> <|pad|> <|pad|> <|pad|> <|pad|> <|pad|> <|pad|> <|pad|> <|pad|> <|pad|> <|pad|> <|pad|> <|pad|> <|pad|> <|pad|> <|pad|> <|pad|> <|pad|> <|pad|> <|pad|> <|pad|> <|pad|> <|pad|> <|pad|> <|pad|> <|pad|> <|pad|> <|pad|> <|pad|> <|pad|> <|pad|> <|pad|> <|pad|>', decoded_tokens=[50257, 66, 13513, 50260, 77, 25, 845, 1263, 26, 9812, 50261, 2504, 10846, 550, 257, 10973, 1820, 16360, 3228, 50258, 50259, 50259, 50259, 50259, 50259, 50259, 50259, 50259, 50259, 50259, 50259, 50259, 50259, 50259, 50259, 50259, 50259, 50259, 50259, 50259, 50259, 50259, 50259, 50259, 50259, 50259, 50259, 50259, 50259, 50259, 50259, 50259, 50259, 50259, 50259, 50259, 50259, 50259, 50259, 50259, 50259, 50259, 50259, 50259, 50259])"
      ]
     },
     "execution_count": 12,
     "metadata": {},
     "output_type": "execute_result"
    }
   ],
   "source": [
    "wg.generate_definition(\"cummy\")"
   ]
  },
  {
   "cell_type": "code",
   "execution_count": null,
   "metadata": {
    "pycharm": {
     "name": "#%%\n"
    }
   },
   "outputs": [],
   "source": [
    "from word_service.word_service_proto import wordservice_pb# model = AutoModelWithLMHead.from_pretrained(\"/mnt/evo/projects/title-maker-pro/models/urban_dictionary_250_cleaned_lr_00005_b9_seed4/checkpoint-140000\").to(\"cuda:0\")"
   ]
  }
 ],
 "metadata": {
  "kernelspec": {
   "display_name": "company_makeup",
   "language": "python",
   "name": "company_makeup"
  },
  "language_info": {
   "codemirror_mode": {
    "name": "ipython",
    "version": 3
   },
   "file_extension": ".py",
   "mimetype": "text/x-python",
   "name": "python",
   "nbconvert_exporter": "python",
   "pygments_lexer": "ipython3",
   "version": "3.7.6"
  }
 },
 "nbformat": 4,
 "nbformat_minor": 4
}